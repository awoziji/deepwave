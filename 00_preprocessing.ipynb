{
 "cells": [
  {
   "cell_type": "code",
   "execution_count": null,
   "metadata": {},
   "outputs": [],
   "source": [
    "# default_exp preprocessing"
   ]
  },
  {
   "cell_type": "markdown",
   "metadata": {},
   "source": [
    "# Preprocessing\n",
    "\n",
    "> Este modulo es el encargado de la carga, preprocesamiento y preparacion de los datos."
   ]
  },
  {
   "cell_type": "code",
   "execution_count": null,
   "metadata": {},
   "outputs": [],
   "source": [
    "#hide\n",
    "from nbdev.showdoc import *\n",
    "import numpy as np\n",
    "import re\n",
    "import unittest"
   ]
  },
  {
   "cell_type": "markdown",
   "metadata": {},
   "source": [
    "## Clase TimeSerie"
   ]
  },
  {
   "cell_type": "code",
   "execution_count": null,
   "metadata": {},
   "outputs": [],
   "source": [
    "#export\n",
    "class TimeSerie:\n",
    "    \"Estructura de datos que almacena las mediciones en una estacion.\"\n",
    "    \n",
    "    @staticmethod\n",
    "    def __process_time(time):\n",
    "        match = re.match(r\"(?P<val>\\d+)(?P<smh>[smh]*)$\", time, re.I)\n",
    "        assert match, \"Formato incorrecto de tamaño de ventana o paso.\"\n",
    "        \n",
    "        result = int(match.group(\"val\"))\n",
    "        if match.group(\"smh\").lower() == \"m\":\n",
    "            result *= 60\n",
    "        elif match.group(\"smh\").lower() == \"h\":\n",
    "            result *= 60*60\n",
    "        return result\n",
    "        \n",
    "        \n",
    "    def __init__(self, window_size:str=\"2m\", step:str=\"30s\", freq:int=50):\n",
    "        \"El formato de `window_size` y `step` es \\d+[smh]\"\n",
    "        \"`window_size` representa el tamaño de tiempo en que sera cortada la serie de tiempo\"\n",
    "        \"`step` representa el tamaño de paso que se utiliza al cortar la serie de tiempo\"\n",
    "        \"`freq` es la frecuencia en Hz que tienen las mediciones\"\n",
    "        \n",
    "        self.window_size = self.__process_time(window_size)\n",
    "        self.step = self.__process_time(step)\n",
    "        \n",
    "        assert type(freq) is int, \"La frecuencia debe ser un entero.\"\n",
    "        assert freq > 0 and freq <= 500, \"La frecuencia debe definirse entre 1 y 500 Hz\"\n",
    "        self.freq = freq\n",
    "    \n",
    "    def __repr__(self):\n",
    "        return f\"window_size {self.window_size}\\nstep {self.step}\\nfreq {self.freq}\"\n",
    "    \n",
    "    def __str__(self):\n",
    "        return f\"window_size {self.window_size}\\nstep {self.step}\\nfreq {self.freq}\""
   ]
  },
  {
   "cell_type": "markdown",
   "metadata": {},
   "source": [
    "### Ejemplos:"
   ]
  },
  {
   "cell_type": "markdown",
   "metadata": {},
   "source": [
    "Serie de tiempo con ventana de 2 minutos y paso de 30 segundos, el muestreo fue hecho a 50 Hz."
   ]
  },
  {
   "cell_type": "code",
   "execution_count": null,
   "metadata": {},
   "outputs": [
    {
     "data": {
      "text/plain": [
       "window_size 120\n",
       "step 30\n",
       "freq 50"
      ]
     },
     "execution_count": null,
     "metadata": {},
     "output_type": "execute_result"
    }
   ],
   "source": [
    "TimeSerie(\"2m\",\"30s\",50)"
   ]
  },
  {
   "cell_type": "code",
   "execution_count": null,
   "metadata": {},
   "outputs": [
    {
     "data": {
      "text/plain": [
       "window_size 4\n",
       "step 2\n",
       "freq 40"
      ]
     },
     "execution_count": null,
     "metadata": {},
     "output_type": "execute_result"
    }
   ],
   "source": [
    "TimeSerie(\"4s\",\"2s\",40)"
   ]
  },
  {
   "cell_type": "code",
   "execution_count": null,
   "metadata": {},
   "outputs": [
    {
     "data": {
      "text/plain": [
       "window_size 3600\n",
       "step 1800\n",
       "freq 10"
      ]
     },
     "execution_count": null,
     "metadata": {},
     "output_type": "execute_result"
    }
   ],
   "source": [
    "TimeSerie(\"1h\",\"30m\",10)"
   ]
  },
  {
   "cell_type": "code",
   "execution_count": null,
   "metadata": {},
   "outputs": [
    {
     "data": {
      "text/plain": [
       "window_size 10\n",
       "step 5\n",
       "freq 15"
      ]
     },
     "execution_count": null,
     "metadata": {},
     "output_type": "execute_result"
    }
   ],
   "source": [
    "TimeSerie(\"10\",\"5\",15)"
   ]
  },
  {
   "cell_type": "code",
   "execution_count": null,
   "metadata": {},
   "outputs": [
    {
     "data": {
      "text/plain": [
       "window_size 120\n",
       "step 30\n",
       "freq 30"
      ]
     },
     "execution_count": null,
     "metadata": {},
     "output_type": "execute_result"
    }
   ],
   "source": [
    "TimeSerie(\"2m\",\"30\",30)"
   ]
  },
  {
   "cell_type": "code",
   "execution_count": null,
   "metadata": {},
   "outputs": [],
   "source": [
    "#hide\n",
    "\n",
    "#Test definition\n",
    "\n",
    "class TestTimeSerie(unittest.TestCase):\n",
    "    \n",
    "    def __check_params(self, ts, window_size, step, freq):\n",
    "        self.assertEqual(ts.window_size, window_size)\n",
    "        self.assertEqual(ts.step, step)\n",
    "        self.assertEqual(ts.freq, freq)\n",
    "    \n",
    "    def test_params(self):\n",
    "        ts = TimeSerie(\"2m\",\"30s\",50)\n",
    "        self.__check_params(ts, 120, 30, 50)\n",
    "        \n",
    "        ts = TimeSerie(\"4s\",\"2s\",40)\n",
    "        self.__check_params(ts, 4, 2, 40)\n",
    "        \n",
    "        ts = TimeSerie(\"1h\",\"30m\",10)\n",
    "        self.__check_params(ts, 60*60, 30*60, 10)\n",
    "        \n",
    "        ts = TimeSerie(\"10\",\"5\",15)\n",
    "        self.__check_params(ts, 10, 5, 15)\n",
    "        \n",
    "        ts = TimeSerie(\"2m\",\"30\",30)\n",
    "        self.__check_params(ts, 2*60, 30, 30)"
   ]
  },
  {
   "cell_type": "code",
   "execution_count": null,
   "metadata": {},
   "outputs": [
    {
     "name": "stderr",
     "output_type": "stream",
     "text": [
      "test_params (__main__.TestTimeSerie) ... ok\n",
      "\n",
      "----------------------------------------------------------------------\n",
      "Ran 1 test in 0.002s\n",
      "\n",
      "OK\n"
     ]
    },
    {
     "data": {
      "text/plain": [
       "<unittest.main.TestProgram at 0x181d4c6aac8>"
      ]
     },
     "execution_count": null,
     "metadata": {},
     "output_type": "execute_result"
    }
   ],
   "source": [
    "#hide\n",
    "\n",
    "#Test run\n",
    "unittest.main(argv=[''], verbosity=2, exit=False)"
   ]
  }
 ],
 "metadata": {
  "kernelspec": {
   "display_name": "deepwave",
   "language": "python",
   "name": "deepwave"
  }
 },
 "nbformat": 4,
 "nbformat_minor": 2
}
