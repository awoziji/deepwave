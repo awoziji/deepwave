{
 "cells": [
  {
   "cell_type": "code",
   "execution_count": null,
   "metadata": {},
   "outputs": [],
   "source": [
    "# default_exp preprocessing"
   ]
  },
  {
   "cell_type": "markdown",
   "metadata": {},
   "source": [
    "# Preprocessing\n",
    "\n",
    "> Este modulo es el encargado de la carga, preprocesamiento y preparacion de los datos."
   ]
  },
  {
   "cell_type": "code",
   "execution_count": null,
   "metadata": {},
   "outputs": [],
   "source": [
    "#hide\n",
    "from nbdev.showdoc import *\n",
    "import numpy as np\n",
    "import pandas as pd\n",
    "import re\n",
    "import unittest\n",
    "from obspy import read\n",
    "from pathlib import Path"
   ]
  },
  {
   "cell_type": "markdown",
   "metadata": {},
   "source": [
    "## Clase TimeSerie"
   ]
  },
  {
   "cell_type": "code",
   "execution_count": null,
   "metadata": {},
   "outputs": [],
   "source": [
    "#export\n",
    "class TimeSerie:\n",
    "    \"Estructura de datos que almacena las mediciones en una estacion.\"\n",
    "    \n",
    "    @staticmethod\n",
    "    def __process_time(time):\n",
    "        match = re.match(r\"(?P<val>\\d+)(?P<smh>[smh]*)$\", time, re.I)\n",
    "        assert match, \"Formato incorrecto de tamaño de ventana o paso.\"\n",
    "        \n",
    "        result = int(match.group(\"val\"))\n",
    "        if match.group(\"smh\").lower() == \"m\":\n",
    "            result *= 60\n",
    "        elif match.group(\"smh\").lower() == \"h\":\n",
    "            result *= 60*60\n",
    "        return result\n",
    "        \n",
    "        \n",
    "    def __init__(self, window_size:str=\"2m\", step:str=\"30s\", freq:int=50):\n",
    "        \"El formato de `window_size` y `step` es \\d+[smh]\"\n",
    "        \"`window_size` representa el tamaño de tiempo en que sera cortada la serie de tiempo\"\n",
    "        \"`step` representa el tamaño de paso que se utiliza al cortar la serie de tiempo\"\n",
    "        \"`freq` es la frecuencia en Hz que tienen las mediciones\"\n",
    "        \n",
    "        self.window_size = self.__process_time(window_size)\n",
    "        self.step = self.__process_time(step)\n",
    "        \n",
    "        assert type(freq) is int, \"La frecuencia debe ser un entero.\"\n",
    "        assert freq > 0 and freq <= 500, \"La frecuencia debe definirse entre 1 y 500 Hz\"\n",
    "        self.freq = freq\n",
    "        \n",
    "    @staticmethod\n",
    "    def load_data_one_file(file_path, station=\"B2DF\", channel=\"001\"):\n",
    "        \"\"\"\n",
    "        Busca en el camino del archivo pasado por parametros y\n",
    "        retorna un diccionario con la fecha de inicio y termino, \n",
    "        ademas de los datos correspondientes a la estacion y el canal pasados por parametros.\n",
    "        \"\"\"\n",
    "        st = read(str(file_path))\n",
    "        for tr in st:\n",
    "            if tr.stats.station == station and tr.stats.channel == channel:\n",
    "                return {\"start\": tr.stats.starttime, \"end\": tr.stats.endtime, \"data\": tr.data}\n",
    "    \n",
    "    @staticmethod\n",
    "    def load_data_list(list_file_path, station=\"B2DF\", channel=\"001\"):\n",
    "        \"\"\"\n",
    "        Busca en cada camino de archivo de la lista pasado por parametros y\n",
    "        retorna una lista de diccionarios con las fecha de inicio y termino, \n",
    "        ademas de los datos correspondientes a la estacion y el canal pasados por parametros.\n",
    "        \"\"\"\n",
    "        data = [ \n",
    "                 TimeSerie.load_data_one_file(file_path, station, channel) \\\n",
    "                 for file_path in list_file_path \\\n",
    "                 if not file_path.is_dir()\n",
    "               ]\n",
    "        return data\n",
    "    \n",
    "    @staticmethod\n",
    "    def load_data_folder(folder_path, station=\"B2DF\", channel=\"001\"):\n",
    "        \"\"\"\n",
    "        Busca en cada archivo miniseed del directorio pasado por parametros y\n",
    "        retorna una lista de diccionarios con las fecha de inicio y termino, \n",
    "        ademas de los datos correspondientes a la estacion y el canal pasados por parametros.\n",
    "        \"\"\"\n",
    "        data = TimeSerie.load_data_list(folder_path.glob(\"**/*\"), station, channel)\n",
    "        return data\n",
    "    \n",
    "    def __repr__(self):\n",
    "        return f\"window_size {self.window_size}\\nstep {self.step}\\nfreq {self.freq}\"\n",
    "    \n",
    "    def __str__(self):\n",
    "        return f\"window_size {self.window_size}\\nstep {self.step}\\nfreq {self.freq}\""
   ]
  },
  {
   "cell_type": "code",
   "execution_count": null,
   "metadata": {},
   "outputs": [
    {
     "data": {
      "text/markdown": [
       "<h4 id=\"TimeSerie.load_data_one_file\" class=\"doc_header\"><code>TimeSerie.load_data_one_file</code><a href=\"__main__.py#L31\" class=\"source_link\" style=\"float:right\">[source]</a></h4>\n",
       "\n",
       "> <code>TimeSerie.load_data_one_file</code>(**`file_path`**, **`station`**=*`'B2DF'`*, **`channel`**=*`'001'`*)\n",
       "\n",
       "Busca en el camino del archivo pasado por parametros y\n",
       "retorna un diccionario con la fecha de inicio y termino, \n",
       "ademas de los datos correspondientes a la estacion y el canal pasados por parametros."
      ],
      "text/plain": [
       "<IPython.core.display.Markdown object>"
      ]
     },
     "metadata": {},
     "output_type": "display_data"
    }
   ],
   "source": [
    "show_doc(TimeSerie.load_data_one_file)"
   ]
  },
  {
   "cell_type": "code",
   "execution_count": null,
   "metadata": {},
   "outputs": [
    {
     "data": {
      "text/markdown": [
       "<h4 id=\"TimeSerie.load_data_folder\" class=\"doc_header\"><code>TimeSerie.load_data_folder</code><a href=\"__main__.py#L53\" class=\"source_link\" style=\"float:right\">[source]</a></h4>\n",
       "\n",
       "> <code>TimeSerie.load_data_folder</code>(**`folder_path`**, **`station`**=*`'B2DF'`*, **`channel`**=*`'001'`*)\n",
       "\n",
       "Busca en cada archivo miniseed del directorio pasado por parametros y\n",
       "retorna una lista de diccionarios con las fecha de inicio y termino, \n",
       "ademas de los datos correspondientes a la estacion y el canal pasados por parametros."
      ],
      "text/plain": [
       "<IPython.core.display.Markdown object>"
      ]
     },
     "metadata": {},
     "output_type": "display_data"
    }
   ],
   "source": [
    "show_doc(TimeSerie.load_data_folder)"
   ]
  },
  {
   "cell_type": "markdown",
   "metadata": {},
   "source": [
    "### Ejemplos:"
   ]
  },
  {
   "cell_type": "markdown",
   "metadata": {},
   "source": [
    "Serie de tiempo con ventana de 2 minutos y paso de 30 segundos, el muestreo fue hecho a 50 Hz."
   ]
  },
  {
   "cell_type": "code",
   "execution_count": null,
   "metadata": {},
   "outputs": [],
   "source": [
    "TimeSerie(\"2m\",\"30s\",50)"
   ]
  },
  {
   "cell_type": "code",
   "execution_count": null,
   "metadata": {},
   "outputs": [],
   "source": [
    "TimeSerie(\"4s\",\"2s\",40)"
   ]
  },
  {
   "cell_type": "code",
   "execution_count": null,
   "metadata": {},
   "outputs": [],
   "source": [
    "TimeSerie(\"1h\",\"30m\",10)"
   ]
  },
  {
   "cell_type": "code",
   "execution_count": null,
   "metadata": {},
   "outputs": [],
   "source": [
    "TimeSerie(\"10\",\"5\",15)"
   ]
  },
  {
   "cell_type": "code",
   "execution_count": null,
   "metadata": {},
   "outputs": [],
   "source": [
    "TimeSerie(\"2m\",\"30\",30)"
   ]
  },
  {
   "cell_type": "markdown",
   "metadata": {},
   "source": [
    "### Tests"
   ]
  },
  {
   "cell_type": "code",
   "execution_count": null,
   "metadata": {},
   "outputs": [],
   "source": [
    "\n",
    "#Test definition\n",
    "\n",
    "class TestTimeSerie(unittest.TestCase):\n",
    "    \n",
    "    def __check_params(self, ts, window_size, step, freq):\n",
    "        self.assertEqual(ts.window_size, window_size)\n",
    "        self.assertEqual(ts.step, step)\n",
    "        self.assertEqual(ts.freq, freq)\n",
    "    \n",
    "    def test_params(self):\n",
    "        ts = TimeSerie(\"2m\",\"30s\",50)\n",
    "        self.__check_params(ts, 120, 30, 50)\n",
    "        \n",
    "        ts = TimeSerie(\"4s\",\"2s\",40)\n",
    "        self.__check_params(ts, 4, 2, 40)\n",
    "        \n",
    "        ts = TimeSerie(\"1h\",\"30m\",10)\n",
    "        self.__check_params(ts, 60*60, 30*60, 10)\n",
    "        \n",
    "        ts = TimeSerie(\"10\",\"5\",15)\n",
    "        self.__check_params(ts, 10, 5, 15)\n",
    "        \n",
    "        ts = TimeSerie(\"2m\",\"30\",30)\n",
    "        self.__check_params(ts, 2*60, 30, 30)\n",
    "    \n",
    "    def test_file_load(self):\n",
    "        res = TimeSerie.load_data_one_file(Path(\"./data/B2DF/raw/2018-10-30-2100-00M.B2DF__001_00_01\"))\n",
    "        res[\"data\"] = res[\"data\"][:10]\n",
    "        pd.DataFrame(res).to_csv(Path(\"./data/B2DF/test/csv\")/'test_load_file1.csv', index=False)\n",
    "        \n",
    "        df1 = pd.read_csv(Path(\"./data/B2DF/test/csv/test_load_file1.csv\"))\n",
    "        df2 = pd.read_csv(Path(\"./data/B2DF/test/csv/test_load_file.csv\"))\n",
    "        pd.util.testing.assert_frame_equal(df1, df2)\n",
    "    \n",
    "    def test_list_load(self):\n",
    "        files = [\n",
    "                    Path(\"./data/B2DF/raw/2018-10-30-2100-00M.B2DF__001_00_01\"),\n",
    "                    Path(\"./data/B2DF/raw/2018-10-30-2200-00M.B2DF__001_00_01\"),\n",
    "                    Path(\"./data/B2DF/raw/2018-10-30-2300-00M.B2DF__001_00_01\"),\n",
    "                ]\n",
    "        \n",
    "        pd.DataFrame(TimeSerie.load_data_list(files)) \\\n",
    "            .to_csv(Path(\"./data/B2DF/test/csv\")/'test_load_list1.csv', index=False)\n",
    "        \n",
    "        df1 = pd.read_csv(Path(\"./data/B2DF/test/csv/test_load_list1.csv\"))\n",
    "        df2 = pd.read_csv(Path(\"./data/B2DF/test/csv/test_load_list.csv\"))\n",
    "        pd.util.testing.assert_frame_equal(df1, df2)\n",
    "    \n",
    "    def test_folder_load(self):\n",
    "        pd.DataFrame(TimeSerie.load_data_folder(Path(\"./data/B2DF/test/raw\"))) \\\n",
    "            .to_csv(Path(\"./data/B2DF/test/csv\")/'test_load_folder1.csv', index=False)\n",
    "        \n",
    "        df1 = pd.read_csv(Path(\"./data/B2DF/test/csv/test_load_folder1.csv\"))\n",
    "        df2 = pd.read_csv(Path(\"./data/B2DF/test/csv/test_load_folder.csv\"))\n",
    "        pd.util.testing.assert_frame_equal(df1, df2)"
   ]
  },
  {
   "cell_type": "code",
   "execution_count": null,
   "metadata": {},
   "outputs": [
    {
     "name": "stderr",
     "output_type": "stream",
     "text": [
      "test_file_load (__main__.TestTimeSerie) ... ok\n",
      "test_folder_load (__main__.TestTimeSerie) ... ok\n",
      "test_list_load (__main__.TestTimeSerie) ... ok\n",
      "test_params (__main__.TestTimeSerie) ... ok\n",
      "\n",
      "----------------------------------------------------------------------\n",
      "Ran 4 tests in 0.192s\n",
      "\n",
      "OK\n"
     ]
    },
    {
     "data": {
      "text/plain": [
       "<unittest.main.TestProgram at 0x25f6982f5c0>"
      ]
     },
     "execution_count": null,
     "metadata": {},
     "output_type": "execute_result"
    }
   ],
   "source": [
    "#hide\n",
    "\n",
    "#Test run\n",
    "unittest.main(argv=[''], verbosity=2, exit=False)"
   ]
  },
  {
   "cell_type": "markdown",
   "metadata": {},
   "source": [
    "#hide\n",
    "## For testing only "
   ]
  },
  {
   "cell_type": "code",
   "execution_count": null,
   "metadata": {},
   "outputs": [],
   "source": [
    "# hide\n",
    "def load_first_file(data_path): \n",
    "    for idx, file_path in enumerate(data_path.glob(\"**/*\")):\n",
    "        if not file_path.is_dir():\n",
    "            return file_path"
   ]
  },
  {
   "cell_type": "code",
   "execution_count": null,
   "metadata": {},
   "outputs": [],
   "source": [
    "#hide\n"
   ]
  }
 ],
 "metadata": {
  "kernelspec": {
   "display_name": "deepwave",
   "language": "python",
   "name": "deepwave"
  }
 },
 "nbformat": 4,
 "nbformat_minor": 2
}
